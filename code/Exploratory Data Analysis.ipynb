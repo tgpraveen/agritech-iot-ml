{
    "cells": [
        {
            "cell_type": "code",
            "execution_count": null,
            "source": [
                "# 1. Complete an exploratory analysis with visualizations of the data to come up with some interesting thoughts/patterns and describe your findings about the data.\n",
                "# 2. Develop a Machine Learning model to classify the activity based on features present in theneckband. What would be the most optimal model to run on the Neckband?\n",
                "# 3. Share your code through GitHub or any other preferred way on or before the interview date.\n",
                "# 4. Please put a summary of your exploration, model development and resulting into a brief presentation to share back with the interviewers."
            ],
            "outputs": [],
            "metadata": {}
        },
        {
            "cell_type": "code",
            "execution_count": null,
            "source": [
                "# Setup and Config."
            ],
            "outputs": [],
            "metadata": {}
        },
        {
            "cell_type": "code",
            "execution_count": 42,
            "source": [
                "!pip install -r requirements.txt"
            ],
            "outputs": [
                {
                    "output_type": "stream",
                    "name": "stdout",
                    "text": [
                        "Requirement already satisfied: pandas in /Users/pthirukonda1/anaconda/lib/python3.6/site-packages (from -r requirements.txt (line 1)) (1.1.5)\n",
                        "Requirement already satisfied: numpy in /Users/pthirukonda1/anaconda/lib/python3.6/site-packages (from -r requirements.txt (line 2)) (1.19.5)\n",
                        "Requirement already satisfied: seaborn in /Users/pthirukonda1/anaconda/lib/python3.6/site-packages (from -r requirements.txt (line 3)) (0.11.1)\n",
                        "Requirement already satisfied: pandas-profiling in /Users/pthirukonda1/anaconda/lib/python3.6/site-packages (from -r requirements.txt (line 4)) (3.0.0)\n",
                        "Collecting auto-sklearn\n",
                        "  Using cached auto-sklearn-0.12.7.tar.gz (6.3 MB)\n",
                        "Requirement already satisfied: setuptools in /Users/pthirukonda1/anaconda/lib/python3.6/site-packages (from auto-sklearn->-r requirements.txt (line 6)) (39.1.0)\n",
                        "Requirement already satisfied: scipy<1.7,>=0.14.1 in /Users/pthirukonda1/anaconda/lib/python3.6/site-packages (from auto-sklearn->-r requirements.txt (line 6)) (1.5.4)\n",
                        "Requirement already satisfied: joblib in /Users/pthirukonda1/anaconda/lib/python3.6/site-packages (from auto-sklearn->-r requirements.txt (line 6)) (1.0.1)\n",
                        "Requirement already satisfied: dask in /Users/pthirukonda1/anaconda/lib/python3.6/site-packages (from auto-sklearn->-r requirements.txt (line 6)) (0.17.5)\n",
                        "Requirement already satisfied: pyyaml in /Users/pthirukonda1/anaconda/lib/python3.6/site-packages (from auto-sklearn->-r requirements.txt (line 6)) (5.4.1)\n",
                        "Requirement already satisfied: python-dateutil>=2.7.3 in /Users/pthirukonda1/anaconda/lib/python3.6/site-packages (from pandas->-r requirements.txt (line 1)) (2.8.0)\n",
                        "Requirement already satisfied: pytz>=2017.2 in /Users/pthirukonda1/anaconda/lib/python3.6/site-packages (from pandas->-r requirements.txt (line 1)) (2018.4)\n",
                        "Collecting ConfigSpace<0.5,>=0.4.14\n",
                        "  Using cached ConfigSpace-0.4.19.tar.gz (106 kB)\n",
                        "  Installing build dependencies ... \u001b[?25ldone\n",
                        "\u001b[?25h  Getting requirements to build wheel ... \u001b[?25ldone\n",
                        "\u001b[?25h    Preparing wheel metadata ... \u001b[?25ldone\n",
                        "\u001b[?25hRequirement already satisfied: cython in /Users/pthirukonda1/anaconda/lib/python3.6/site-packages (from ConfigSpace<0.5,>=0.4.14->auto-sklearn->-r requirements.txt (line 6)) (0.28.3)\n",
                        "Requirement already satisfied: pyparsing in /Users/pthirukonda1/anaconda/lib/python3.6/site-packages (from ConfigSpace<0.5,>=0.4.14->auto-sklearn->-r requirements.txt (line 6)) (2.2.0)\n",
                        "Collecting distributed>=2.2.0\n",
                        "  Using cached distributed-2021.3.0-py3-none-any.whl (675 kB)\n",
                        "Requirement already satisfied: psutil>=5.0 in /Users/pthirukonda1/anaconda/lib/python3.6/site-packages (from distributed>=2.2.0->auto-sklearn->-r requirements.txt (line 6)) (5.4.5)\n",
                        "Requirement already satisfied: zict>=0.1.3 in /Users/pthirukonda1/anaconda/lib/python3.6/site-packages (from distributed>=2.2.0->auto-sklearn->-r requirements.txt (line 6)) (0.1.3)\n",
                        "Requirement already satisfied: toolz>=0.8.2 in /Users/pthirukonda1/anaconda/lib/python3.6/site-packages (from distributed>=2.2.0->auto-sklearn->-r requirements.txt (line 6)) (0.9.0)\n",
                        "Requirement already satisfied: sortedcontainers!=2.0.0,!=2.0.1 in /Users/pthirukonda1/anaconda/lib/python3.6/site-packages (from distributed>=2.2.0->auto-sklearn->-r requirements.txt (line 6)) (2.0.3)\n",
                        "Requirement already satisfied: tornado>=5 in /Users/pthirukonda1/anaconda/lib/python3.6/site-packages (from distributed>=2.2.0->auto-sklearn->-r requirements.txt (line 6)) (5.0.2)\n",
                        "Requirement already satisfied: click>=6.6 in /Users/pthirukonda1/anaconda/lib/python3.6/site-packages (from distributed>=2.2.0->auto-sklearn->-r requirements.txt (line 6)) (7.1.2)\n",
                        "Collecting cloudpickle>=1.5.0\n",
                        "  Using cached cloudpickle-1.6.0-py3-none-any.whl (23 kB)\n",
                        "Collecting dask\n",
                        "  Using cached dask-2021.3.0-py3-none-any.whl (925 kB)\n",
                        "Collecting msgpack>=0.6.0\n",
                        "  Using cached msgpack-1.0.2-cp36-cp36m-macosx_10_14_x86_64.whl (73 kB)\n",
                        "Collecting pynisher>=0.6.3\n",
                        "  Using cached pynisher-0.6.4.tar.gz (11 kB)\n",
                        "Collecting pyrfr<0.9,>=0.8.1\n",
                        "  Using cached pyrfr-0.8.2.tar.gz (296 kB)\n",
                        "Requirement already satisfied: six>=1.5 in /Users/pthirukonda1/anaconda/lib/python3.6/site-packages (from python-dateutil>=2.7.3->pandas->-r requirements.txt (line 1)) (1.11.0)\n",
                        "Collecting scikit-learn<0.25.0,>=0.24.0\n",
                        "  Using cached scikit_learn-0.24.2-cp36-cp36m-macosx_10_13_x86_64.whl (7.2 MB)\n",
                        "Requirement already satisfied: threadpoolctl>=2.0.0 in /Users/pthirukonda1/anaconda/lib/python3.6/site-packages (from scikit-learn<0.25.0,>=0.24.0->auto-sklearn->-r requirements.txt (line 6)) (2.2.0)\n",
                        "Collecting smac<0.14,>=0.13.1\n",
                        "  Using cached smac-0.13.1.tar.gz (258 kB)\n",
                        "Collecting tblib>=1.6.0\n",
                        "  Using cached tblib-1.7.0-py2.py3-none-any.whl (12 kB)\n",
                        "Requirement already satisfied: heapdict in /Users/pthirukonda1/anaconda/lib/python3.6/site-packages (from zict>=0.1.3->distributed>=2.2.0->auto-sklearn->-r requirements.txt (line 6)) (1.0.0)\n",
                        "Collecting datetime\n",
                        "  Using cached DateTime-4.3-py2.py3-none-any.whl (60 kB)\n",
                        "Requirement already satisfied: pydantic>=1.8.1 in /Users/pthirukonda1/anaconda/lib/python3.6/site-packages (from pandas-profiling->-r requirements.txt (line 4)) (1.8.2)\n",
                        "Requirement already satisfied: htmlmin>=0.1.12 in /Users/pthirukonda1/anaconda/lib/python3.6/site-packages (from pandas-profiling->-r requirements.txt (line 4)) (0.1.12)\n",
                        "Requirement already satisfied: tangled-up-in-unicode==0.1.0 in /Users/pthirukonda1/anaconda/lib/python3.6/site-packages (from pandas-profiling->-r requirements.txt (line 4)) (0.1.0)\n",
                        "Requirement already satisfied: tqdm>=4.48.2 in /Users/pthirukonda1/anaconda/lib/python3.6/site-packages (from pandas-profiling->-r requirements.txt (line 4)) (4.62.1)\n",
                        "Requirement already satisfied: missingno>=0.4.2 in /Users/pthirukonda1/anaconda/lib/python3.6/site-packages (from pandas-profiling->-r requirements.txt (line 4)) (0.5.0)\n",
                        "Requirement already satisfied: requests>=2.24.0 in /Users/pthirukonda1/anaconda/lib/python3.6/site-packages (from pandas-profiling->-r requirements.txt (line 4)) (2.26.0)\n",
                        "Requirement already satisfied: matplotlib>=3.2.0 in /Users/pthirukonda1/anaconda/lib/python3.6/site-packages (from pandas-profiling->-r requirements.txt (line 4)) (3.3.4)\n",
                        "Requirement already satisfied: visions[type_image_path]==0.7.1 in /Users/pthirukonda1/anaconda/lib/python3.6/site-packages (from pandas-profiling->-r requirements.txt (line 4)) (0.7.1)\n",
                        "Requirement already satisfied: jinja2>=2.11.1 in /Users/pthirukonda1/anaconda/lib/python3.6/site-packages (from pandas-profiling->-r requirements.txt (line 4)) (2.11.2)\n",
                        "Requirement already satisfied: phik>=0.11.1 in /Users/pthirukonda1/anaconda/lib/python3.6/site-packages (from pandas-profiling->-r requirements.txt (line 4)) (0.12.0)\n",
                        "Requirement already satisfied: attrs>=19.3.0 in /Users/pthirukonda1/anaconda/lib/python3.6/site-packages (from visions[type_image_path]==0.7.1->pandas-profiling->-r requirements.txt (line 4)) (21.2.0)\n",
                        "Requirement already satisfied: networkx>=2.4 in /Users/pthirukonda1/anaconda/lib/python3.6/site-packages (from visions[type_image_path]==0.7.1->pandas-profiling->-r requirements.txt (line 4)) (2.5.1)\n",
                        "Requirement already satisfied: multimethod==1.4 in /Users/pthirukonda1/anaconda/lib/python3.6/site-packages (from visions[type_image_path]==0.7.1->pandas-profiling->-r requirements.txt (line 4)) (1.4)\n",
                        "Requirement already satisfied: bottleneck in /Users/pthirukonda1/anaconda/lib/python3.6/site-packages (from visions[type_image_path]==0.7.1->pandas-profiling->-r requirements.txt (line 4)) (1.2.1)\n",
                        "Requirement already satisfied: imagehash in /Users/pthirukonda1/anaconda/lib/python3.6/site-packages (from visions[type_image_path]==0.7.1->pandas-profiling->-r requirements.txt (line 4)) (4.2.1)\n",
                        "Requirement already satisfied: Pillow in /Users/pthirukonda1/anaconda/lib/python3.6/site-packages (from visions[type_image_path]==0.7.1->pandas-profiling->-r requirements.txt (line 4)) (8.1.0)\n",
                        "Requirement already satisfied: MarkupSafe>=0.23 in /Users/pthirukonda1/anaconda/lib/python3.6/site-packages (from jinja2>=2.11.1->pandas-profiling->-r requirements.txt (line 4)) (1.0)\n",
                        "Requirement already satisfied: cycler>=0.10 in /Users/pthirukonda1/anaconda/lib/python3.6/site-packages (from matplotlib>=3.2.0->pandas-profiling->-r requirements.txt (line 4)) (0.10.0)\n",
                        "Requirement already satisfied: kiwisolver>=1.0.1 in /Users/pthirukonda1/anaconda/lib/python3.6/site-packages (from matplotlib>=3.2.0->pandas-profiling->-r requirements.txt (line 4)) (1.3.1)\n",
                        "Requirement already satisfied: decorator<5,>=4.3 in /Users/pthirukonda1/anaconda/lib/python3.6/site-packages (from networkx>=2.4->visions[type_image_path]==0.7.1->pandas-profiling->-r requirements.txt (line 4)) (4.3.0)\n",
                        "Requirement already satisfied: dataclasses>=0.6 in /Users/pthirukonda1/anaconda/lib/python3.6/site-packages (from pydantic>=1.8.1->pandas-profiling->-r requirements.txt (line 4)) (0.8)\n",
                        "Requirement already satisfied: typing-extensions>=3.7.4.3 in /Users/pthirukonda1/anaconda/lib/python3.6/site-packages (from pydantic>=1.8.1->pandas-profiling->-r requirements.txt (line 4)) (3.10.0.0)\n",
                        "Requirement already satisfied: charset-normalizer~=2.0.0 in /Users/pthirukonda1/anaconda/lib/python3.6/site-packages (from requests>=2.24.0->pandas-profiling->-r requirements.txt (line 4)) (2.0.4)\n",
                        "Requirement already satisfied: urllib3<1.27,>=1.21.1 in /Users/pthirukonda1/anaconda/lib/python3.6/site-packages (from requests>=2.24.0->pandas-profiling->-r requirements.txt (line 4)) (1.22)\n",
                        "Requirement already satisfied: idna<4,>=2.5 in /Users/pthirukonda1/anaconda/lib/python3.6/site-packages (from requests>=2.24.0->pandas-profiling->-r requirements.txt (line 4)) (2.6)\n",
                        "Requirement already satisfied: certifi>=2017.4.17 in /Users/pthirukonda1/.local/lib/python3.6/site-packages (from requests>=2.24.0->pandas-profiling->-r requirements.txt (line 4)) (2018.1.18)\n",
                        "Collecting contextvars\n",
                        "  Using cached contextvars-2.4.tar.gz (9.6 kB)\n",
                        "Collecting immutables>=0.9\n",
                        "  Using cached immutables-0.16-cp36-cp36m-macosx_10_9_x86_64.whl (56 kB)\n",
                        "Requirement already satisfied: PyWavelets in /Users/pthirukonda1/anaconda/lib/python3.6/site-packages (from imagehash->visions[type_image_path]==0.7.1->pandas-profiling->-r requirements.txt (line 4)) (0.5.2)\n",
                        "Collecting lazy_import\n",
                        "  Using cached lazy_import-0.2.2.tar.gz (15 kB)\n",
                        "\u001b[31m    ERROR: Command errored out with exit status 1:\n",
                        "     command: /Users/pthirukonda1/anaconda/bin/python -c 'import sys, setuptools, tokenize; sys.argv[0] = '\"'\"'/private/var/folders/1p/g1nr1l1j5l97_djcd3c19r0m0000gn/T/pip-install-qia5fd5q/lazy-import_2d4aaf9557814ddca492cac39c353c10/setup.py'\"'\"'; __file__='\"'\"'/private/var/folders/1p/g1nr1l1j5l97_djcd3c19r0m0000gn/T/pip-install-qia5fd5q/lazy-import_2d4aaf9557814ddca492cac39c353c10/setup.py'\"'\"';f=getattr(tokenize, '\"'\"'open'\"'\"', open)(__file__);code=f.read().replace('\"'\"'\\r\\n'\"'\"', '\"'\"'\\n'\"'\"');f.close();exec(compile(code, __file__, '\"'\"'exec'\"'\"'))' egg_info --egg-base /private/var/folders/1p/g1nr1l1j5l97_djcd3c19r0m0000gn/T/pip-pip-egg-info-ychbf47g\n",
                        "         cwd: /private/var/folders/1p/g1nr1l1j5l97_djcd3c19r0m0000gn/T/pip-install-qia5fd5q/lazy-import_2d4aaf9557814ddca492cac39c353c10/\n",
                        "    Complete output (7 lines):\n",
                        "    Traceback (most recent call last):\n",
                        "      File \"<string>\", line 1, in <module>\n",
                        "      File \"/private/var/folders/1p/g1nr1l1j5l97_djcd3c19r0m0000gn/T/pip-install-qia5fd5q/lazy-import_2d4aaf9557814ddca492cac39c353c10/setup.py\", line 6, in <module>\n",
                        "        readme = infile.read()\n",
                        "      File \"/Users/pthirukonda1/anaconda/lib/python3.6/encodings/ascii.py\", line 26, in decode\n",
                        "        return codecs.ascii_decode(input, self.errors)[0]\n",
                        "    UnicodeDecodeError: 'ascii' codec can't decode byte 0xe2 in position 621: ordinal not in range(128)\n",
                        "    ----------------------------------------\u001b[0m\n",
                        "\u001b[31mERROR: Command errored out with exit status 1: python setup.py egg_info Check the logs for full command output.\u001b[0m\n",
                        "\u001b[33mWARNING: You are using pip version 20.3.3; however, version 21.2.4 is available.\n",
                        "You should consider upgrading via the '/Users/pthirukonda1/anaconda/bin/python -m pip install --upgrade pip' command.\u001b[0m\n"
                    ]
                }
            ],
            "metadata": {}
        },
        {
            "cell_type": "code",
            "execution_count": 31,
            "source": [
                "import numpy as np\n",
                "import pandas as pd\n",
                "import seaborn as sns\n",
                "sns.set()\n",
                "import datetime\n",
                "pd.set_option('expand_frame_repr', False)"
            ],
            "outputs": [],
            "metadata": {}
        },
        {
            "cell_type": "code",
            "execution_count": 32,
            "source": [
                "df = pd.read_csv(\"../data/IMU.csv\", dtype={'activity' : 'category'}, parse_dates=['UnixTime','gps_unixTime'], date_parser=lambda epoch: pd.to_datetime(float(epoch)/1000))\n",
                "\n",
                "#print(df.head(5))\n",
                "print(\"\\n\\n\\nDataframe Info:\\n\")\n",
                "print(df.info)\n",
                "print(\"\\n\\n\\n DF DTypes:\\n\")\n",
                "print(df.dtypes)"
            ],
            "outputs": [
                {
                    "output_type": "stream",
                    "name": "stdout",
                    "text": [
                        "\n",
                        "\n",
                        "\n",
                        "Dataframe Info:\n",
                        "\n",
                        "<bound method DataFrame.info of                          UnixTime  cumulativeAudio  cumulativeShock   lat_sMins   lon_wMins               gps_unixTime  heading_hundredths  velocity_cm_s  hdop  satellitesUsed  ...  gyro_dps.x  gyro_dps.y  gyro_dps.z  mag_nT.x  mag_nT.y  mag_nT.z  IMUspeed  IMUfSpeed  pitch  activity\n",
                        "0      1970-01-01 00:00:01.532740               19                 5 -27.788683  152.686050 1970-01-01 00:00:01.532740              184.14              0   0.8              10  ...          -1           0          -1    -11686    -11850    -24150        22         10     13         0\n",
                        "1      1970-01-01 00:00:01.532740               19                 5 -27.788683  152.686050 1970-01-01 00:00:01.532740              184.14              0   0.8              10  ...          -1           0          -1    -11686    -11850    -24150        22         10     13         0\n",
                        "2      1970-01-01 00:00:01.532740               19                 5 -27.788683  152.686050 1970-01-01 00:00:01.532740              184.14              0   0.8              10  ...          -1           0           0    -10036    -12900    -24000        22         10     13         0\n",
                        "3      1970-01-01 00:00:01.532740               19                 5 -27.788683  152.686050 1970-01-01 00:00:01.532740              184.14              0   0.8              10  ...          -1           0           0    -10036    -12900    -24000        22         10     13         0\n",
                        "4      1970-01-01 00:00:01.532740               19                 5 -27.788683  152.686050 1970-01-01 00:00:01.532740              184.14              0   0.8              10  ...          -1          -1           0    -10036    -12900    -24000        22         10     13         0\n",
                        "...                           ...              ...               ...        ...         ...                        ...                 ...            ...   ...             ...  ...         ...         ...         ...       ...       ...       ...       ...        ...    ...       ...\n",
                        "558395 1970-01-01 00:00:01.532760               19                 5 -27.788589  152.689301 1970-01-01 00:00:01.532760               29.75              0   0.5              22  ...          -1           0          -2      4200     14700     24436         3         13    -45         1\n",
                        "558396 1970-01-01 00:00:01.532760               19                 5 -27.788589  152.689301 1970-01-01 00:00:01.532760               29.75              0   0.5              22  ...          -1           1          -1      4200     14700     24436         3         13    -45         1\n",
                        "558397 1970-01-01 00:00:01.532760               19                 5 -27.788589  152.689301 1970-01-01 00:00:01.532760               29.75              0   0.5              22  ...          -1           1          -1      4200     14700     24436         3         13    -45         1\n",
                        "558398 1970-01-01 00:00:01.532760               19                 5 -27.788589  152.689301 1970-01-01 00:00:01.532760               29.75              0   0.5              22  ...           0           1          -1      5250     13650     24286         3         13    -45         1\n",
                        "558399 1970-01-01 00:00:01.532760               19                 5 -27.788589  152.689301 1970-01-01 00:00:01.532760               29.75              0   0.5              22  ...           0           1          -1      5250     13650     24286         3         13    -45         1\n",
                        "\n",
                        "[558400 rows x 24 columns]>\n",
                        "\n",
                        "\n",
                        "\n",
                        " DF DTypes:\n",
                        "\n",
                        "UnixTime              datetime64[ns]\n",
                        "cumulativeAudio                int64\n",
                        "cumulativeShock                int64\n",
                        "lat_sMins                    float64\n",
                        "lon_wMins                    float64\n",
                        "gps_unixTime          datetime64[ns]\n",
                        "heading_hundredths           float64\n",
                        "velocity_cm_s                  int64\n",
                        "hdop                         float64\n",
                        "satellitesUsed                 int64\n",
                        "validPosition                  int64\n",
                        "accel_mg.x                     int64\n",
                        "accel_mg.y                     int64\n",
                        "accel_mg.z                     int64\n",
                        "gyro_dps.x                     int64\n",
                        "gyro_dps.y                     int64\n",
                        "gyro_dps.z                     int64\n",
                        "mag_nT.x                       int64\n",
                        "mag_nT.y                       int64\n",
                        "mag_nT.z                       int64\n",
                        "IMUspeed                       int64\n",
                        "IMUfSpeed                      int64\n",
                        "pitch                          int64\n",
                        "activity                    category\n",
                        "dtype: object\n"
                    ]
                }
            ],
            "metadata": {}
        },
        {
            "cell_type": "code",
            "execution_count": 36,
            "source": [
                "# Pandas Profiling FTW!\n",
                "from pandas_profiling import ProfileReport\n",
                "profiling_report = ProfileReport(df.sample(n=250000))\n",
                "profiling_report.to_file(output_file='../analysis_outputs/profiling_report_output_sampled250000.html')\n",
                "profiling_report = ProfileReport(df.sample(n=100000), minimal=True)\n",
                "profiling_report.to_file(output_file='../analysis_outputs/profiling_report_output_minimalTrue.html')"
            ],
            "outputs": [
                {
                    "output_type": "stream",
                    "name": "stderr",
                    "text": [
                        "Summarize dataset: 100%|██████████| 38/38 [01:58<00:00,  3.13s/it, Completed]\n",
                        "Generate report structure: 100%|██████████| 1/1 [00:11<00:00, 11.31s/it]\n",
                        "Render HTML: 100%|██████████| 1/1 [00:12<00:00, 12.86s/it]\n",
                        "Export report to file: 100%|██████████| 1/1 [00:00<00:00,  9.60it/s]\n",
                        "Summarize dataset: 100%|██████████| 33/33 [00:00<00:00, 101.13it/s, Completed]\n",
                        "Generate report structure: 100%|██████████| 1/1 [00:08<00:00,  8.33s/it]\n",
                        "Render HTML: 100%|██████████| 1/1 [00:00<00:00,  1.32it/s]\n",
                        "Export report to file: 100%|██████████| 1/1 [00:00<00:00, 339.43it/s]\n"
                    ]
                }
            ],
            "metadata": {}
        },
        {
            "cell_type": "markdown",
            "source": [
                "Machine Learning Model\n"
            ],
            "metadata": {}
        },
        {
            "cell_type": "code",
            "execution_count": 41,
            "source": [
                "# print autosklearn version\n",
                "import autosklearn\n",
                "print('autosklearn: %s' % autosklearn.__version__)\n",
                "\n",
                "# example of auto-sklearn for a classification dataset\n",
                "from sklearn.model_selection import train_test_split\n",
                "from sklearn.metrics import accuracy_score\n",
                "from autosklearn.classification import AutoSklearnClassifier\n",
                "# define dataset\n",
                "X, y = df.loc[:, df.columns != 'activity'], df['activity']\n",
                "# split into train and test sets\n",
                "X_train, X_test, y_train, y_test = train_test_split(X, y, test_size=0.33, random_state=1)\n",
                "# define search\n",
                "model = AutoSklearnClassifier(time_left_for_this_task=2*60, per_run_time_limit=30, n_jobs=8)\n",
                "# perform the search\n",
                "model.fit(X_train, y_train)\n",
                "# summarize\n",
                "print(model.sprint_statistics())\n",
                "# evaluate best model\n",
                "y_hat = model.predict(X_test)\n",
                "acc = accuracy_score(y_test, y_hat)\n",
                "print(\"Accuracy: %.3f\" % acc)"
            ],
            "outputs": [
                {
                    "output_type": "error",
                    "ename": "ModuleNotFoundError",
                    "evalue": "No module named 'autosklearn'",
                    "traceback": [
                        "\u001b[0;31m---------------------------------------------------------------------------\u001b[0m",
                        "\u001b[0;31mModuleNotFoundError\u001b[0m                       Traceback (most recent call last)",
                        "\u001b[0;32m<ipython-input-41-22056de1204d>\u001b[0m in \u001b[0;36m<module>\u001b[0;34m()\u001b[0m\n\u001b[1;32m      1\u001b[0m \u001b[0;31m# print autosklearn version\u001b[0m\u001b[0;34m\u001b[0m\u001b[0;34m\u001b[0m\u001b[0m\n\u001b[0;32m----> 2\u001b[0;31m \u001b[0;32mimport\u001b[0m \u001b[0mautosklearn\u001b[0m\u001b[0;34m\u001b[0m\u001b[0m\n\u001b[0m\u001b[1;32m      3\u001b[0m \u001b[0mprint\u001b[0m\u001b[0;34m(\u001b[0m\u001b[0;34m'autosklearn: %s'\u001b[0m \u001b[0;34m%\u001b[0m \u001b[0mautosklearn\u001b[0m\u001b[0;34m.\u001b[0m\u001b[0m__version__\u001b[0m\u001b[0;34m)\u001b[0m\u001b[0;34m\u001b[0m\u001b[0m\n\u001b[1;32m      4\u001b[0m \u001b[0;34m\u001b[0m\u001b[0m\n\u001b[1;32m      5\u001b[0m \u001b[0;31m# example of auto-sklearn for a classification dataset\u001b[0m\u001b[0;34m\u001b[0m\u001b[0;34m\u001b[0m\u001b[0m\n",
                        "\u001b[0;31mModuleNotFoundError\u001b[0m: No module named 'autosklearn'"
                    ]
                }
            ],
            "metadata": {}
        }
    ],
    "metadata": {
        "orig_nbformat": 4,
        "language_info": {
            "name": "python",
            "version": "3.6.5",
            "mimetype": "text/x-python",
            "codemirror_mode": {
                "name": "ipython",
                "version": 3
            },
            "pygments_lexer": "ipython3",
            "nbconvert_exporter": "python",
            "file_extension": ".py"
        },
        "kernelspec": {
            "name": "python3",
            "display_name": "Python 3.6.5 64-bit"
        },
        "interpreter": {
            "hash": "24b8fca0fe751c1962f9ea29a2b6879614e9547bbbb264e784f6b477fde043f8"
        }
    },
    "nbformat": 4,
    "nbformat_minor": 2
}